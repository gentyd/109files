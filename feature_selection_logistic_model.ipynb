{
 "cells": [
  {
   "cell_type": "markdown",
   "metadata": {},
   "source": [
    "# Logistic Model"
   ]
  },
  {
   "cell_type": "code",
   "execution_count": 307,
   "metadata": {},
   "outputs": [],
   "source": [
    "import pandas as pd\n",
    "import numpy as np\n",
    "import matplotlib.pyplot as plt\n",
    "import seaborn as sns\n",
    "from sklearn.model_selection import train_test_split\n",
    "import statsmodels.formula.api as smf\n",
    "import itertools\n",
    "\n",
    "import sys\n",
    "assert(sys.version_info.major==3), print(sys.version)\n",
    "\n",
    "# Data and Stats packages\n",
    "import numpy as np\n",
    "import pandas as pd\n",
    "from sklearn import metrics, datasets\n",
    "from sklearn.model_selection import train_test_split\n",
    "import statsmodels.api as sm # RUNNING FOR ME (MSR)\n",
    "\n",
    "# Visualization packages\n",
    "%matplotlib inline\n",
    "import matplotlib\n",
    "import matplotlib.patches as mpatches\n",
    "import seaborn as sns\n",
    "matplotlib.rcParams['figure.figsize'] = (13.0, 6.0)\n",
    "\n",
    "import io\n",
    "import itertools\n",
    "import warnings\n",
    "warnings.filterwarnings(\"ignore\")"
   ]
  },
  {
   "cell_type": "markdown",
   "metadata": {},
   "source": [
    "### 1) Separate Dependent and Independent Predictors"
   ]
  },
  {
   "cell_type": "code",
   "execution_count": 308,
   "metadata": {},
   "outputs": [],
   "source": [
    "# Read in the dataframe\n",
    "df = pd.read_csv('training_data_v1.csv', skiprows=0)"
   ]
  },
  {
   "cell_type": "code",
   "execution_count": 309,
   "metadata": {},
   "outputs": [],
   "source": [
    "df_1 = df.copy()\n",
    "\n",
    "df_1 = df_1.drop(columns=['predictor','Charged Off','Y','N'],axis=1)"
   ]
  },
  {
   "cell_type": "code",
   "execution_count": 310,
   "metadata": {},
   "outputs": [],
   "source": [
    "df_1['zip_code'] = df['zip_code'].astype(str)"
   ]
  },
  {
   "cell_type": "code",
   "execution_count": 311,
   "metadata": {},
   "outputs": [],
   "source": [
    "df_new = pd.DataFrame()\n",
    "df_new = pd.get_dummies(df_1['zip_code'])\n",
    "df_1 = df_1.drop(['zip_code'],axis=1)\n",
    "df_1 = pd.concat([df_1,df_new], axis=1)"
   ]
  },
  {
   "cell_type": "code",
   "execution_count": 313,
   "metadata": {},
   "outputs": [],
   "source": [
    "sample = df_1.sample(frac=0.01)"
   ]
  },
  {
   "cell_type": "markdown",
   "metadata": {},
   "source": [
    "### Clean Dataset and Impute Missing Data"
   ]
  },
  {
   "cell_type": "code",
   "execution_count": 314,
   "metadata": {},
   "outputs": [],
   "source": [
    "# Set all Nan's to 0\n",
    "\n",
    "for i in sample.index:\n",
    "    for j in sample.columns:\n",
    "        if pd.isnull(sample.at[i,j]):\n",
    "            sample.at[i,j] = 0"
   ]
  },
  {
   "cell_type": "code",
   "execution_count": 315,
   "metadata": {},
   "outputs": [],
   "source": [
    "x_train, x_test, y_train, y_test = train_test_split(sample.drop(columns=['Fully Paid'],axis=1), \n",
    "                                                    sample['Fully Paid'], test_size=0.15, random_state=42)"
   ]
  },
  {
   "cell_type": "markdown",
   "metadata": {},
   "source": [
    "### 3) Select Most Significant Predictors Using Random Forest Regressor"
   ]
  },
  {
   "cell_type": "code",
   "execution_count": 319,
   "metadata": {
    "scrolled": true
   },
   "outputs": [],
   "source": [
    "from sklearn.datasets import load_boston\n",
    "from sklearn.ensemble import RandomForestRegressor\n",
    "import numpy as np\n",
    "\n",
    "rf = RandomForestRegressor()\n",
    "rf.fit(x_train, y_train)\n",
    "\n",
    "names = x_train.columns\n",
    "performance = sorted(zip(map(lambda x: round(x, 4), rf.feature_importances_), names), \n",
    "             reverse=True)\n",
    "\n",
    "purity = 0\n",
    "purity_list = []\n",
    "selected_cols = []\n",
    "\n",
    "for i in range(0,40):\n",
    "    purity = purity + performance[i][0]\n",
    "    purity_list.append(purity)\n",
    "    selected_cols.append(performance[i][1])\n",
    "    \n",
    "selected_cols.append('Fully Paid')"
   ]
  },
  {
   "cell_type": "code",
   "execution_count": 320,
   "metadata": {},
   "outputs": [
    {
     "data": {
      "text/plain": [
       "[<matplotlib.lines.Line2D at 0x1c1ba62c88>]"
      ]
     },
     "execution_count": 320,
     "metadata": {},
     "output_type": "execute_result"
    },
    {
     "data": {
      "image/png": "[encoded data removed]",
      "text/plain": [
       "<Figure size 936x432 with 1 Axes>"
      ]
     },
     "metadata": {},
     "output_type": "display_data"
    }
   ],
   "source": [
    "plt.plot(purity_list)"
   ]
  },
  {
   "cell_type": "code",
   "execution_count": 321,
   "metadata": {},
   "outputs": [
    {
     "data": {
      "text/plain": [
       "(['sub_grade',\n",
       "  'dti',\n",
       "  'int_rate',\n",
       "  'total_acc',\n",
       "  'revol_bal',\n",
       "  'max_bal_bc',\n",
       "  'open_rv_24m',\n",
       "  'installment',\n",
       "  'annual_inc',\n",
       "  'total_bc_limit',\n",
       "  'num_actv_bc_tl',\n",
       "  'total_rev_hi_lim',\n",
       "  'total_bal_il',\n",
       "  'total_bal_ex_mort',\n",
       "  'num_actv_rev_tl',\n",
       "  'num_op_rev_tl',\n",
       "  'funded_amnt',\n",
       "  'il_util',\n",
       "  'tot_hi_cred_lim',\n",
       "  'mths_since_rcnt_il',\n",
       "  'percent_bc_gt_75',\n",
       "  'bc_open_to_buy',\n",
       "  'open_acc_6m',\n",
       "  'num_tl_op_past_12m',\n",
       "  'num_il_tl',\n",
       "  'total_cu_tl',\n",
       "  'num_rev_accts',\n",
       "  'mort_acc',\n",
       "  'all_util',\n",
       "  'bc_util',\n",
       "  'open_rv_12m',\n",
       "  'total_il_high_credit_limit',\n",
       "  'num_bc_sats',\n",
       "  'num_rev_tl_bal_gt_0',\n",
       "  '8 years',\n",
       "  'tot_cur_bal',\n",
       "  'pct_tl_nvr_dlq',\n",
       "  'avg_cur_bal',\n",
       "  'revol_util',\n",
       "  'num_bc_tl',\n",
       "  'Fully Paid'],\n",
       " [0.0619,\n",
       "  0.1146,\n",
       "  0.1614,\n",
       "  0.19379999999999997,\n",
       "  0.22449999999999998,\n",
       "  0.2551,\n",
       "  0.2802,\n",
       "  0.3049,\n",
       "  0.3281,\n",
       "  0.3507,\n",
       "  0.3708,\n",
       "  0.3905,\n",
       "  0.4094,\n",
       "  0.4275,\n",
       "  0.4419,\n",
       "  0.4552,\n",
       "  0.4684,\n",
       "  0.4815,\n",
       "  0.4945,\n",
       "  0.5074,\n",
       "  0.52,\n",
       "  0.5319,\n",
       "  0.5436000000000001,\n",
       "  0.5553000000000001,\n",
       "  0.5665000000000001,\n",
       "  0.5772000000000002,\n",
       "  0.5876000000000001,\n",
       "  0.5978000000000001,\n",
       "  0.6078000000000001,\n",
       "  0.6177000000000001,\n",
       "  0.6274000000000002,\n",
       "  0.6369000000000001,\n",
       "  0.6460000000000001,\n",
       "  0.6546000000000002,\n",
       "  0.6630000000000001,\n",
       "  0.6708000000000002,\n",
       "  0.6785000000000002,\n",
       "  0.6858000000000002,\n",
       "  0.6928000000000002,\n",
       "  0.6996000000000002])"
      ]
     },
     "execution_count": 321,
     "metadata": {},
     "output_type": "execute_result"
    }
   ],
   "source": [
    "selected_cols, purity_list"
   ]
  },
  {
   "cell_type": "code",
   "execution_count": 322,
   "metadata": {},
   "outputs": [],
   "source": [
    "df_2 = df_1[selected_cols]"
   ]
  },
  {
   "cell_type": "code",
   "execution_count": 323,
   "metadata": {},
   "outputs": [],
   "source": [
    "sample2 = df_2.sample(frac=0.1)"
   ]
  },
  {
   "cell_type": "code",
   "execution_count": 324,
   "metadata": {},
   "outputs": [],
   "source": [
    "for i in sample2.index:\n",
    "    for j in sample2.columns:\n",
    "        if pd.isnull(sample2.at[i,j]):\n",
    "            sample2.at[i,j] = 0"
   ]
  },
  {
   "cell_type": "markdown",
   "metadata": {},
   "source": [
    "### 4) Instantiate and Fit Logistic Model"
   ]
  },
  {
   "cell_type": "code",
   "execution_count": 326,
   "metadata": {},
   "outputs": [],
   "source": [
    "x_train2, x_test2, y_train2, y_test2 = train_test_split(sample2.drop(columns=['Fully Paid'],axis=1), \n",
    "                                                    sample2['Fully Paid'], test_size=0.15, random_state=42)"
   ]
  },
  {
   "cell_type": "code",
   "execution_count": 327,
   "metadata": {},
   "outputs": [
    {
     "data": {
      "text/plain": [
       "LogisticRegressionCV(Cs=1000, class_weight=None, cv=None, dual=False,\n",
       "           fit_intercept=True, intercept_scaling=1.0, max_iter=100,\n",
       "           multi_class='ovr', n_jobs=1, penalty='l2', random_state=None,\n",
       "           refit=True, scoring=None, solver='lbfgs', tol=0.0001, verbose=0)"
      ]
     },
     "execution_count": 327,
     "metadata": {},
     "output_type": "execute_result"
    }
   ],
   "source": [
    "from sklearn.linear_model import LogisticRegressionCV\n",
    "\n",
    "logistic = LogisticRegressionCV(Cs=1000,penalty='l2')\n",
    "logistic.fit(x_train2, y_train2)"
   ]
  },
  {
   "cell_type": "code",
   "execution_count": 328,
   "metadata": {},
   "outputs": [
    {
     "data": {
      "text/plain": [
       "0.75"
      ]
     },
     "execution_count": 328,
     "metadata": {},
     "output_type": "execute_result"
    }
   ],
   "source": [
    "logistic.score(x_test2, y_test2)"
   ]
  },
  {
   "cell_type": "markdown",
   "metadata": {},
   "source": [
    "### 5) Evaluate Average Interest Returns"
   ]
  },
  {
   "cell_type": "code",
   "execution_count": 329,
   "metadata": {},
   "outputs": [],
   "source": [
    "# x_test2['int_rate']\n",
    "expected_interest = []\n",
    "predicted_prob = logistic.predict_proba(x_test2)\n",
    "for i in range(0,len(x_test2)):\n",
    "    # Expected interest is predicted probability times interest rate\n",
    "    expected_interest.append(predicted_prob[i][1]*x_test2.iloc[i]['int_rate'])"
   ]
  },
  {
   "cell_type": "code",
   "execution_count": 341,
   "metadata": {},
   "outputs": [
    {
     "data": {
      "text/plain": [
       "Int64Index([1112, 1081,  684,  196,  550,  825,  638, 1011,  868,  935,\n",
       "            ...\n",
       "             420,  617,  123, 1126,  440, 1174, 1205,   48,  398,  572],\n",
       "           dtype='int64', length=122)"
      ]
     },
     "execution_count": 341,
     "metadata": {},
     "output_type": "execute_result"
    }
   ],
   "source": [
    "exp_int_df = pd.DataFrame(data = expected_interest, columns=['EI'])\n",
    "top_10_percent = round(len(x_test2)*.1)\n",
    "best_ten_loans = exp_int_df.sort_values('EI',ascending=False).index[0:top_10_percent]\n",
    "\n",
    "best_ten_loans"
   ]
  },
  {
   "cell_type": "code",
   "execution_count": 343,
   "metadata": {},
   "outputs": [],
   "source": [
    "successes = []\n",
    "for i in best_ten_loans:\n",
    "    successes.append(y_test2.iloc[i])"
   ]
  },
  {
   "cell_type": "code",
   "execution_count": 345,
   "metadata": {},
   "outputs": [],
   "source": [
    "actual_interest = []\n",
    "for i in best_ten_loans:\n",
    "    actual_interest.append(x_test2.iloc[i]['int_rate']*y_test2.iloc[i])"
   ]
  },
  {
   "cell_type": "code",
   "execution_count": 346,
   "metadata": {},
   "outputs": [
    {
     "data": {
      "text/html": [
       "<div>\n",
       "<style scoped>\n",
       "    .dataframe tbody tr th:only-of-type {\n",
       "        vertical-align: middle;\n",
       "    }\n",
       "\n",
       "    .dataframe tbody tr th {\n",
       "        vertical-align: top;\n",
       "    }\n",
       "\n",
       "    .dataframe thead th {\n",
       "        text-align: right;\n",
       "    }\n",
       "</style>\n",
       "<table border=\"1\" class=\"dataframe\">\n",
       "  <thead>\n",
       "    <tr style=\"text-align: right;\">\n",
       "      <th></th>\n",
       "      <th>EI</th>\n",
       "    </tr>\n",
       "  </thead>\n",
       "  <tbody>\n",
       "    <tr>\n",
       "      <th>1112</th>\n",
       "      <td>0.231851</td>\n",
       "    </tr>\n",
       "    <tr>\n",
       "      <th>1081</th>\n",
       "      <td>0.209540</td>\n",
       "    </tr>\n",
       "    <tr>\n",
       "      <th>684</th>\n",
       "      <td>0.208987</td>\n",
       "    </tr>\n",
       "    <tr>\n",
       "      <th>196</th>\n",
       "      <td>0.188509</td>\n",
       "    </tr>\n",
       "    <tr>\n",
       "      <th>550</th>\n",
       "      <td>0.184795</td>\n",
       "    </tr>\n",
       "    <tr>\n",
       "      <th>825</th>\n",
       "      <td>0.175722</td>\n",
       "    </tr>\n",
       "    <tr>\n",
       "      <th>638</th>\n",
       "      <td>0.171549</td>\n",
       "    </tr>\n",
       "    <tr>\n",
       "      <th>1011</th>\n",
       "      <td>0.170837</td>\n",
       "    </tr>\n",
       "    <tr>\n",
       "      <th>868</th>\n",
       "      <td>0.169996</td>\n",
       "    </tr>\n",
       "    <tr>\n",
       "      <th>935</th>\n",
       "      <td>0.168898</td>\n",
       "    </tr>\n",
       "  </tbody>\n",
       "</table>\n",
       "</div>"
      ],
      "text/plain": [
       "            EI\n",
       "1112  0.231851\n",
       "1081  0.209540\n",
       "684   0.208987\n",
       "196   0.188509\n",
       "550   0.184795\n",
       "825   0.175722\n",
       "638   0.171549\n",
       "1011  0.170837\n",
       "868   0.169996\n",
       "935   0.168898"
      ]
     },
     "execution_count": 346,
     "metadata": {},
     "output_type": "execute_result"
    }
   ],
   "source": [
    "# exp_int_df.sort_values('EI',ascending=False).iloc[0:10]"
   ]
  },
  {
   "cell_type": "code",
   "execution_count": 347,
   "metadata": {},
   "outputs": [
    {
     "data": {
      "text/plain": [
       "0.12229508196721313"
      ]
     },
     "execution_count": 347,
     "metadata": {},
     "output_type": "execute_result"
    }
   ],
   "source": [
    "np.mean(actual_interest)"
   ]
  },
  {
   "cell_type": "code",
   "execution_count": null,
   "metadata": {},
   "outputs": [],
   "source": []
  }
 ],
 "metadata": {
  "kernelspec": {
   "display_name": "Python 3",
   "language": "python",
   "name": "python3"
  },
  "language_info": {
   "codemirror_mode": {
    "name": "ipython",
    "version": 3
   },
   "file_extension": ".py",
   "mimetype": "text/x-python",
   "name": "python",
   "nbconvert_exporter": "python",
   "pygments_lexer": "ipython3",
   "version": "3.6.6"
  }
 },
 "nbformat": 4,
 "nbformat_minor": 2
}
