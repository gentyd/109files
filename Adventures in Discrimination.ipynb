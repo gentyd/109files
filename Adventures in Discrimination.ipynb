{
 "cells": [
  {
   "cell_type": "markdown",
   "metadata": {},
   "source": [
    "# Logistic Model"
   ]
  },
  {
   "cell_type": "code",
   "execution_count": 10,
   "metadata": {},
   "outputs": [],
   "source": [
    "import pandas as pd\n",
    "import numpy as np\n",
    "import matplotlib.pyplot as plt\n",
    "import seaborn as sns\n",
    "from sklearn.model_selection import train_test_split\n",
    "import statsmodels.formula.api as smf\n",
    "import itertools\n",
    "\n",
    "import sys\n",
    "assert(sys.version_info.major==3), print(sys.version)\n",
    "\n",
    "# Data and Stats packages\n",
    "import numpy as np\n",
    "import pandas as pd\n",
    "from sklearn import metrics, datasets\n",
    "from sklearn.model_selection import train_test_split\n",
    "import statsmodels.api as sm # RUNNING FOR ME (MSR)\n",
    "\n",
    "# Visualization packages\n",
    "%matplotlib inline\n",
    "import matplotlib\n",
    "import matplotlib.patches as mpatches\n",
    "import seaborn as sns\n",
    "matplotlib.rcParams['figure.figsize'] = (13.0, 6.0)\n",
    "\n",
    "import io\n",
    "import itertools\n",
    "import warnings\n",
    "warnings.filterwarnings(\"ignore\")"
   ]
  },
  {
   "cell_type": "markdown",
   "metadata": {},
   "source": [
    "### 1) Separate Dependent and Independent Predictors"
   ]
  },
  {
   "cell_type": "code",
   "execution_count": 11,
   "metadata": {},
   "outputs": [],
   "source": [
    "# Read in the dataframe\n",
    "df = pd.read_csv('training_data_v1.csv', skiprows=0)"
   ]
  },
  {
   "cell_type": "code",
   "execution_count": 12,
   "metadata": {},
   "outputs": [],
   "source": [
    "df_1 = df.copy()\n",
    "\n",
    "df_1 = df_1.drop(columns=['predictor','Charged Off','Y','N'],axis=1)"
   ]
  },
  {
   "cell_type": "code",
   "execution_count": 13,
   "metadata": {},
   "outputs": [],
   "source": [
    "df_1['zip_code'] = df['zip_code'].astype(str)"
   ]
  },
  {
   "cell_type": "code",
   "execution_count": 14,
   "metadata": {},
   "outputs": [],
   "source": [
    "df_new = pd.DataFrame()\n",
    "df_new = pd.get_dummies(df_1['zip_code'])\n",
    "df_1 = df_1.drop(['zip_code'],axis=1)\n",
    "df_1 = pd.concat([df_1,df_new], axis=1)"
   ]
  },
  {
   "cell_type": "code",
   "execution_count": 15,
   "metadata": {},
   "outputs": [],
   "source": [
    "sample = df_1.sample(frac=0.01)"
   ]
  },
  {
   "cell_type": "markdown",
   "metadata": {},
   "source": [
    "### Clean Dataset and Impute Missing Data"
   ]
  },
  {
   "cell_type": "code",
   "execution_count": 16,
   "metadata": {},
   "outputs": [],
   "source": [
    "# Set all Nan's to 0\n",
    "\n",
    "for i in sample.index:\n",
    "    for j in sample.columns:\n",
    "        if pd.isnull(sample.at[i,j]):\n",
    "            sample.at[i,j] = 0"
   ]
  },
  {
   "cell_type": "code",
   "execution_count": 17,
   "metadata": {},
   "outputs": [],
   "source": [
    "x_train, x_test, y_train, y_test = train_test_split(sample.drop(columns=['Fully Paid'],axis=1), \n",
    "                                                    sample['Fully Paid'], test_size=0.15, random_state=42)"
   ]
  },
  {
   "cell_type": "markdown",
   "metadata": {},
   "source": [
    "### 3) Select Most Significant Predictors Using Random Forest Regressor"
   ]
  },
  {
   "cell_type": "code",
   "execution_count": 18,
   "metadata": {
    "scrolled": true
   },
   "outputs": [],
   "source": [
    "from sklearn.datasets import load_boston\n",
    "from sklearn.ensemble import RandomForestRegressor\n",
    "import numpy as np\n",
    "\n",
    "rf = RandomForestRegressor()\n",
    "rf.fit(x_train, y_train)\n",
    "\n",
    "names = x_train.columns\n",
    "performance = sorted(zip(map(lambda x: round(x, 4), rf.feature_importances_), names), \n",
    "             reverse=True)\n",
    "\n",
    "purity = 0\n",
    "purity_list = []\n",
    "selected_cols = []\n",
    "\n",
    "for i in range(0,40):\n",
    "    purity = purity + performance[i][0]\n",
    "    purity_list.append(purity)\n",
    "    selected_cols.append(performance[i][1])\n",
    "    \n",
    "selected_cols.append('Fully Paid')"
   ]
  },
  {
   "cell_type": "code",
   "execution_count": 19,
   "metadata": {},
   "outputs": [
    {
     "data": {
      "text/plain": [
       "[<matplotlib.lines.Line2D at 0x10bd329e8>]"
      ]
     },
     "execution_count": 19,
     "metadata": {},
     "output_type": "execute_result"
    },
    {
     "data": {
      "image/png": "[encoded data removed]",
      "text/plain": [
       "<Figure size 936x432 with 1 Axes>"
      ]
     },
     "metadata": {
      "needs_background": "light"
     },
     "output_type": "display_data"
    }
   ],
   "source": [
    "plt.plot(purity_list)"
   ]
  },
  {
   "cell_type": "code",
   "execution_count": 20,
   "metadata": {},
   "outputs": [
    {
     "data": {
      "text/plain": [
       "(['dti',\n",
       "  'mths_since_rcnt_il',\n",
       "  'int_rate',\n",
       "  'sub_grade',\n",
       "  'tot_hi_cred_lim',\n",
       "  'total_rev_hi_lim',\n",
       "  'max_bal_bc',\n",
       "  'avg_cur_bal',\n",
       "  'total_il_high_credit_limit',\n",
       "  'bc_open_to_buy',\n",
       "  'installment',\n",
       "  'total_acc',\n",
       "  'annual_inc',\n",
       "  'revol_util',\n",
       "  'num_op_rev_tl',\n",
       "  'funded_amnt',\n",
       "  'tot_cur_bal',\n",
       "  'MORTGAGE',\n",
       "  'inq_last_6mths',\n",
       "  'il_util',\n",
       "  'revol_bal',\n",
       "  'num_rev_accts',\n",
       "  'num_bc_tl',\n",
       "  'total_bal_il',\n",
       "  'num_il_tl',\n",
       "  'open_rv_12m',\n",
       "  'percent_bc_gt_75',\n",
       "  ' 60 months',\n",
       "  'bc_util',\n",
       "  'total_bc_limit',\n",
       "  'open_acc',\n",
       "  'total_bal_ex_mort',\n",
       "  'open_rv_24m',\n",
       "  'acc_open_past_24mths',\n",
       "  'all_util',\n",
       "  'num_actv_rev_tl',\n",
       "  '441',\n",
       "  'pub_rec_bankruptcies',\n",
       "  'RENT',\n",
       "  'open_act_il',\n",
       "  'Fully Paid'],\n",
       " [0.034,\n",
       "  0.06770000000000001,\n",
       "  0.09990000000000002,\n",
       "  0.1315,\n",
       "  0.1617,\n",
       "  0.188,\n",
       "  0.2111,\n",
       "  0.23370000000000002,\n",
       "  0.2548,\n",
       "  0.2757,\n",
       "  0.2956,\n",
       "  0.31499999999999995,\n",
       "  0.33409999999999995,\n",
       "  0.35289999999999994,\n",
       "  0.3716999999999999,\n",
       "  0.38959999999999995,\n",
       "  0.40729999999999994,\n",
       "  0.42489999999999994,\n",
       "  0.44199999999999995,\n",
       "  0.45749999999999996,\n",
       "  0.47269999999999995,\n",
       "  0.48769999999999997,\n",
       "  0.502,\n",
       "  0.5157,\n",
       "  0.5292,\n",
       "  0.542,\n",
       "  0.5547000000000001,\n",
       "  0.5674000000000001,\n",
       "  0.5798000000000001,\n",
       "  0.5921000000000001,\n",
       "  0.6038000000000001,\n",
       "  0.6148000000000001,\n",
       "  0.6255000000000002,\n",
       "  0.6354000000000002,\n",
       "  0.6446000000000002,\n",
       "  0.6535000000000002,\n",
       "  0.6623000000000002,\n",
       "  0.6710000000000003,\n",
       "  0.6795000000000002,\n",
       "  0.6877000000000002])"
      ]
     },
     "execution_count": 20,
     "metadata": {},
     "output_type": "execute_result"
    }
   ],
   "source": [
    "selected_cols, purity_list"
   ]
  },
  {
   "cell_type": "code",
   "execution_count": 21,
   "metadata": {},
   "outputs": [],
   "source": [
    "df_2 = df_1[selected_cols]"
   ]
  },
  {
   "cell_type": "code",
   "execution_count": 22,
   "metadata": {},
   "outputs": [],
   "source": [
    "sample2 = df_2.sample(frac=0.1)"
   ]
  },
  {
   "cell_type": "code",
   "execution_count": 23,
   "metadata": {},
   "outputs": [],
   "source": [
    "for i in sample2.index:\n",
    "    for j in sample2.columns:\n",
    "        if pd.isnull(sample2.at[i,j]):\n",
    "            sample2.at[i,j] = 0"
   ]
  },
  {
   "cell_type": "markdown",
   "metadata": {},
   "source": [
    "### 4) Instantiate and Fit Logistic Model"
   ]
  },
  {
   "cell_type": "code",
   "execution_count": 29,
   "metadata": {},
   "outputs": [],
   "source": [
    "x_train2, x_test2, y_train2, y_test2 = train_test_split(sample2.drop(columns=['Fully Paid'],axis=1), \n",
    "                                                    sample2['Fully Paid'], test_size=0.15, random_state=42)"
   ]
  },
  {
   "cell_type": "code",
   "execution_count": 31,
   "metadata": {},
   "outputs": [
    {
     "data": {
      "text/plain": [
       "LogisticRegressionCV(Cs=10000, class_weight=None, cv=None, dual=False,\n",
       "           fit_intercept=True, intercept_scaling=1.0, max_iter=100,\n",
       "           multi_class='ovr', n_jobs=1, penalty='l2', random_state=None,\n",
       "           refit=True, scoring=None, solver='lbfgs', tol=0.0001, verbose=0)"
      ]
     },
     "execution_count": 31,
     "metadata": {},
     "output_type": "execute_result"
    }
   ],
   "source": [
    "from sklearn.linear_model import LogisticRegressionCV\n",
    "\n",
    "logistic = LogisticRegressionCV(Cs=10000,penalty='l2')\n",
    "logistic.fit(x_train2, y_train2)"
   ]
  },
  {
   "cell_type": "code",
   "execution_count": 32,
   "metadata": {},
   "outputs": [
    {
     "data": {
      "text/plain": [
       "0.7328431372549019"
      ]
     },
     "execution_count": 32,
     "metadata": {},
     "output_type": "execute_result"
    }
   ],
   "source": [
    "logistic.score(x_test2, y_test2)"
   ]
  },
  {
   "cell_type": "markdown",
   "metadata": {},
   "source": [
    "### 5) Evaluate Average Interest Returns"
   ]
  },
  {
   "cell_type": "code",
   "execution_count": 153,
   "metadata": {},
   "outputs": [],
   "source": [
    "# need original indices for references to racial data (indices of rows in xtest2)\n",
    "original_indices = list(x_test2.index)"
   ]
  },
  {
   "cell_type": "code",
   "execution_count": 154,
   "metadata": {},
   "outputs": [],
   "source": [
    "expected_interest = []\n",
    "predicted_prob = logistic.predict_proba(x_test2)\n",
    "for i in range(0,len(x_test2)):\n",
    "    # Expected interest is predicted probability times interest rate\n",
    "    expected_interest.append(predicted_prob[i][1]*x_test2.iloc[i]['int_rate'])"
   ]
  },
  {
   "cell_type": "code",
   "execution_count": 155,
   "metadata": {},
   "outputs": [],
   "source": [
    "exp_int_df = pd.DataFrame(\n",
    "    {'OG_Index': original_indices,\n",
    "     'EI': expected_interest\n",
    "    })"
   ]
  },
  {
   "cell_type": "code",
   "execution_count": 359,
   "metadata": {},
   "outputs": [],
   "source": [
    "top_10_percent = round(len(x_test2)*.1)\n",
    "best_ten_loans = exp_int_df.sort_values('EI',ascending=False)[0:top_10_percent]"
   ]
  },
  {
   "cell_type": "code",
   "execution_count": 360,
   "metadata": {},
   "outputs": [],
   "source": [
    "successes = []\n",
    "for i in best_ten_loans.index:\n",
    "    successes.append(y_test2.iloc[i])"
   ]
  },
  {
   "cell_type": "code",
   "execution_count": 361,
   "metadata": {},
   "outputs": [],
   "source": [
    "actual_interest = []\n",
    "for i in best_ten_loans.index:\n",
    "    actual_interest.append(x_test2.iloc[i]['int_rate']*y_test2.iloc[i])"
   ]
  },
  {
   "cell_type": "code",
   "execution_count": 362,
   "metadata": {},
   "outputs": [
    {
     "data": {
      "text/plain": [
       "0.11926229508196722"
      ]
     },
     "execution_count": 362,
     "metadata": {},
     "output_type": "execute_result"
    }
   ],
   "source": [
    "np.mean(actual_interest)"
   ]
  },
  {
   "cell_type": "markdown",
   "metadata": {},
   "source": [
    "### 6) Checking Racial Distribution of the Results"
   ]
  },
  {
   "cell_type": "markdown",
   "metadata": {},
   "source": [
    "### EDIT THE MODEL INPUTS AND OUTPUT NAMES FOR EACH MODEL; MAKE DISCRIMINATION PAGE"
   ]
  },
  {
   "cell_type": "code",
   "execution_count": 180,
   "metadata": {},
   "outputs": [],
   "source": [
    "racial_data = pd.read_csv('Race_by_zip_final.csv')"
   ]
  },
  {
   "cell_type": "code",
   "execution_count": 462,
   "metadata": {},
   "outputs": [],
   "source": [
    "# Takes in a list of indices of loans referenced in the orginial Lending Club data frame, the original Lending Club data frame\n",
    "# itself, and the data frame storing the racial distributions across three-digit zip code areas in the United States\n",
    "\n",
    "# returns a one vs. rest percentage: the average percentage of a given racial group specified by parameter 'prop'\n",
    "# (default White) underlying the list of loans\n",
    "\n",
    "def get_demographic_data(list_of_indices, lending_data, race_data, prop_=['White Proportion','Black Proportion','Asian Proportion','Other Proportion', \n",
    "                                                                          'Hispanic Proportion','Non-Hispanic Proportion']):\n",
    "    \n",
    "    average_proportions = {}\n",
    "    \n",
    "    for race in prop_:\n",
    "        #print(race)\n",
    "        race_proportion = []\n",
    "        for i in list_of_indices:\n",
    "            \n",
    "            zipCode = lending_data.loc[i]['zip_code']\n",
    "\n",
    "            # accounting for the fact that Lending Club let users input Zip Codes that don't exist in the USA\n",
    "            try:\n",
    "                proportion = ((race_data.loc[race_data['Zip Code'] == zipCode][race]).values)\n",
    "                race_proportion.append(float(proportion))\n",
    "            except:\n",
    "                continue\n",
    "            \n",
    "\n",
    "        average_proportions[race] = sum(race_proportion)/len(race_proportion)\n",
    "    \n",
    "    return average_proportions"
   ]
  },
  {
   "cell_type": "code",
   "execution_count": 463,
   "metadata": {},
   "outputs": [],
   "source": [
    "#['White Proportion', 'Black Proportion',\n",
    "\n",
    "#       'Asian Proportion', 'Other Proportion', 'Hispanic Proportion','Non-Hispanic Proportion']\n",
    "\n",
    "racial_percentage = {}\n",
    "#for race in racial_proportions:\n",
    "racial_percentage=get_demographic_data(best_ten_loans['OG_Index'],df,racial_data)"
   ]
  },
  {
   "cell_type": "code",
   "execution_count": null,
   "metadata": {},
   "outputs": [],
   "source": [
    "((race_data.loc[race_data['Zip Code'] == zipCode][prop_]).values)"
   ]
  },
  {
   "cell_type": "code",
   "execution_count": 464,
   "metadata": {},
   "outputs": [
    {
     "data": {
      "text/plain": [
       "{'White Proportion': 70.34472488927715,\n",
       " 'Black Proportion': 13.840647749334703,\n",
       " 'Asian Proportion': 5.350783918398047,\n",
       " 'Other Proportion': 10.46603735448333,\n",
       " 'Hispanic Proportion': 17.480644536615213,\n",
       " 'Non-Hispanic Proportion': 82.51922679652233}"
      ]
     },
     "execution_count": 464,
     "metadata": {},
     "output_type": "execute_result"
    }
   ],
   "source": [
    "racial_percentage"
   ]
  },
  {
   "cell_type": "code",
   "execution_count": 432,
   "metadata": {},
   "outputs": [
    {
     "data": {
      "text/plain": [
       "3.340898098887608"
      ]
     },
     "execution_count": 432,
     "metadata": {},
     "output_type": "execute_result"
    }
   ],
   "source": [
    "a=(racial_data.loc[racial_data['Zip Code'] == 999]['Black Proportion']).values\n",
    "float(a)"
   ]
  },
  {
   "cell_type": "code",
   "execution_count": 375,
   "metadata": {},
   "outputs": [
    {
     "data": {
      "text/plain": [
       "3.0"
      ]
     },
     "execution_count": 375,
     "metadata": {},
     "output_type": "execute_result"
    }
   ],
   "source": [
    "np.mean([1,2,3,4,5])"
   ]
  },
  {
   "cell_type": "code",
   "execution_count": 397,
   "metadata": {},
   "outputs": [
    {
     "data": {
      "text/plain": [
       "{'White Proportion': array([], shape=(0, 1), dtype=float64)}"
      ]
     },
     "execution_count": 397,
     "metadata": {},
     "output_type": "execute_result"
    }
   ],
   "source": [
    "get_demographic_data(best_ten_loans.index,df,racial_data)"
   ]
  },
  {
   "cell_type": "code",
   "execution_count": 357,
   "metadata": {},
   "outputs": [
    {
     "data": {
      "text/plain": [
       "Index(['Unnamed: 0', 'Zip Code', 'White Proportion', 'Black Proportion',\n",
       "       'Asian Proportion', 'Other Proportion', 'Hispanic Proportion',\n",
       "       'Non-Hispanic Proportion'],\n",
       "      dtype='object')"
      ]
     },
     "execution_count": 357,
     "metadata": {},
     "output_type": "execute_result"
    }
   ],
   "source": [
    "racial_data.columns"
   ]
  },
  {
   "cell_type": "code",
   "execution_count": null,
   "metadata": {},
   "outputs": [],
   "source": [
    "# Demographic Distribution Correction Algorithm\n",
    "\n",
    "# slider starts at index, measures from 0 index to 122\n",
    "# go through each, classifies each as a white or a nonwhite loan\n",
    "# calculates percentage white loans in its current pool\n",
    "# if problem, holds the top half of loans as is and then slides down from 51 + i - to 122 + i\n",
    "\n",
    "def demographic_correction(best_x_loans, racial_group, percentage_desired, expected_interest_dataframe, lending_club_df):\n",
    "    x_percent_length = len(best_x_loans)\n",
    "    length_of_half = int(x_percent_length/2)\n",
    "\n",
    "    all_loans_ordered = expected_interest_dataframe.sort_values('EI',ascending=False)\n",
    "\n",
    "    distribution = get_demographic_data(best_x_loans['OG_Index'],df,racial_data)\n",
    "\n",
    "    if distribution > parity_level:\n",
    "        top_returns = best_x_loans[0:length_of_half]\n",
    "\n",
    "    loan_bag = None\n",
    "    i = 0\n",
    "    while distribution  percentage_desired:\n",
    "        i = i + 1\n",
    "\n",
    "        # slide through\n",
    "        bottom_returns = all_loans_ordered[length_of_half+i:2*(length_of_half)+i]\n",
    "        loan_bag = top_returns.append(bottom_returns)\n",
    "\n",
    "        # test if current bag of loans meets paprity standard\n",
    "        distribution = get_demographic_data(loan_bag['OG_Index'],df,racial_data)"
   ]
  }
 ],
 "metadata": {
  "kernelspec": {
   "display_name": "Python 3",
   "language": "python",
   "name": "python3"
  },
  "language_info": {
   "codemirror_mode": {
    "name": "ipython",
    "version": 3
   },
   "file_extension": ".py",
   "mimetype": "text/x-python",
   "name": "python",
   "nbconvert_exporter": "python",
   "pygments_lexer": "ipython3",
   "version": "3.7.0"
  }
 },
 "nbformat": 4,
 "nbformat_minor": 2
}
