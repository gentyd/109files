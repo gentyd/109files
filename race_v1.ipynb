{
 "cells": [
  {
   "cell_type": "code",
   "execution_count": 1,
   "metadata": {},
   "outputs": [],
   "source": [
    "import pandas as pd\n",
    "import numpy as np\n",
    "import matplotlib.pyplot as plt\n",
    "import io"
   ]
  },
  {
   "cell_type": "code",
   "execution_count": 14,
   "metadata": {},
   "outputs": [],
   "source": [
    "races = pd.read_csv('Demographic_data_zip_code_2010.csv')"
   ]
  },
  {
   "cell_type": "code",
   "execution_count": 15,
   "metadata": {},
   "outputs": [],
   "source": [
    "zip_list = list(races['ZIP3'])\n",
    "unique_zip = list(set(zip_list))"
   ]
  },
  {
   "cell_type": "code",
   "execution_count": 51,
   "metadata": {},
   "outputs": [],
   "source": [
    "white_props = []\n",
    "black_props = []\n",
    "asian_props = []\n",
    "other_props = []\n",
    "hisp_props = []\n",
    "nhisp_props = []\n",
    "\n",
    "for code in unique_zip:\n",
    "    total_pop = sum([int(num) for num in races.groupby('ZIP3')['Population'].apply(list)[code]])\n",
    "    white_props.append(sum([int(num) for num in races.groupby('ZIP3')['popwhite'].apply(list)[code]])/total_pop)\n",
    "    black_props.append(sum([int(num) for num in races.groupby('ZIP3')['popblack'].apply(list)[code]])/total_pop)\n",
    "    asian_props.append(sum([int(num) for num in races.groupby('ZIP3')['popasian'].apply(list)[code]])/total_pop)\n",
    "    other_props.append(sum([int(num) for num in races.groupby('ZIP3')['popother'].apply(list)[code]])/total_pop)\n",
    "    hisp_props.append(sum([int(num) for num in races.groupby('ZIP3')['pophisp'].apply(list)[code]])/total_pop)\n",
    "    nhisp_props.append(sum([int(num) for num in races.groupby('ZIP3')['popnothisp'].apply(list)[code]])/total_pop)"
   ]
  },
  {
   "cell_type": "code",
   "execution_count": 52,
   "metadata": {},
   "outputs": [],
   "source": [
    "df_ziprace = pd.DataFrame()\n",
    "df_ziprace['Zip Code'] = unique_zip\n",
    "df_ziprace['White Proportion'] = white_props\n",
    "df_ziprace['Black Proportion'] = black_props\n",
    "df_ziprace['Asian Proportion'] = asian_props\n",
    "df_ziprace['Other Proportion'] = other_props\n",
    "df_ziprace['Hispanic Proportion'] = hisp_props\n",
    "df_ziprace['Non-Hispanic Proportion'] = nhisp_props"
   ]
  },
  {
   "cell_type": "code",
   "execution_count": 54,
   "metadata": {},
   "outputs": [],
   "source": [
    "import csv\n",
    "with open(\"Race_by_zip_final.csv\",\"w\") as out:\n",
    "    out.write(df_ziprace.to_csv())"
   ]
  },
  {
   "cell_type": "code",
   "execution_count": null,
   "metadata": {},
   "outputs": [],
   "source": []
  }
 ],
 "metadata": {
  "kernelspec": {
   "display_name": "Python 3",
   "language": "python",
   "name": "python3"
  },
  "language_info": {
   "codemirror_mode": {
    "name": "ipython",
    "version": 3
   },
   "file_extension": ".py",
   "mimetype": "text/x-python",
   "name": "python",
   "nbconvert_exporter": "python",
   "pygments_lexer": "ipython3",
   "version": "3.7.0"
  }
 },
 "nbformat": 4,
 "nbformat_minor": 2
}
